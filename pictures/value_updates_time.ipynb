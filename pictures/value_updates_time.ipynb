{
 "cells": [
  {
   "cell_type": "code",
   "execution_count": 2,
   "metadata": {
    "collapsed": true
   },
   "outputs": [],
   "source": [
    "###%matplotlib inline\n",
    "\n",
    "import numpy\n",
    "import pylab"
   ]
  },
  {
   "cell_type": "code",
   "execution_count": 20,
   "metadata": {
    "collapsed": false
   },
   "outputs": [
    {
     "name": "stdout",
     "output_type": "stream",
     "text": [
      "33\n"
     ]
    }
   ],
   "source": [
    "fps = 30\n",
    "period = (1000//fps)\n",
    "print period"
   ]
  },
  {
   "cell_type": "code",
   "execution_count": 22,
   "metadata": {
    "collapsed": false
   },
   "outputs": [],
   "source": [
    "prev_t = 9\n",
    "n_b = period\n",
    "w_b = period/n_b\n",
    "max_val = period\n",
    "prev_h = period - prev_t\n",
    "\n",
    "end_t = 4*period\n",
    "start_t = period \n",
    "now_t = numpy.arange(start_t, end_t)\n",
    "diff_t = now_t - (prev_t - (n_b - prev_h*w_b))\n",
    "n_h_now = numpy.floor(n_b - numpy.mod(diff_t, period)/w_b)\n",
    "\n",
    "fig_linear = pylab.figure()\n",
    "ax = fig_linear.add_subplot(111)\n",
    "#ax.text(2, 6, r'an equation: $E=mc^2$', fontsize=15)\n",
    "ax.text(20, 6, 'invalid\\ntime', fontsize=12, horizontalalignment='center')\n",
    "ax.text(prev_t+13, prev_h+1., 'previous\\nspike\\n(%d, %d)'%(prev_t, prev_h), fontsize=12, horizontalalignment='center')\n",
    "ax.annotate('', xy=(prev_t, prev_h), xytext=(prev_t+8, prev_h+2),\n",
    "            horizontalalignment='center',\n",
    "            verticalalignment='center',\n",
    "            arrowprops=dict(arrowstyle=\"->\", connectionstyle=\"arc3\"))\n",
    "axes = pylab.gca()\n",
    "axes.set_ylim([0,max_val + 8])\n",
    "pylab.bar(prev_t, max_val, start_t - prev_t, color=(1., 0., 0., 0.3), linewidth=0.)\n",
    "pylab.plot([0, end_t], [max_val, max_val], 'b--', label=r'Maximum $H$ multiple')\n",
    "pylab.plot([prev_t, prev_t], [0, max_val], '-.k')\n",
    "pylab.plot([0, end_t], [prev_h, prev_h], '-.k')\n",
    "pylab.plot([prev_t], [prev_h], 'sk', markerfacecolor='white')\n",
    "pylab.plot(now_t, n_h_now, 'g', label=r'Possible $H$ multiples')\n",
    "#pylab.plot([period, period], [0, max_val])\n",
    "pylab.legend()\n",
    "pylab.xlabel(\"Time (ms)\")\n",
    "pylab.ylabel(r'$H\\cdot f(t_{now})$')\n",
    "pylab.show()"
   ]
  },
  {
   "cell_type": "code",
   "execution_count": 52,
   "metadata": {
    "collapsed": false
   },
   "outputs": [
    {
     "name": "stdout",
     "output_type": "stream",
     "text": [
      "4.125\n",
      "8\n",
      "-12.625\n",
      "[  0.75   1.75   2.75   3.75   4.75   5.75   6.75   7.75   8.75   9.75\n",
      "  10.75  11.75  12.75  13.75  14.75  15.75  16.75  17.75  18.75  19.75\n",
      "  20.75  21.75  22.75  23.75  24.75  25.75  26.75  27.75  28.75  29.75\n",
      "  30.75  31.75  32.75  33.75  34.75  35.75  36.75  37.75  38.75  39.75\n",
      "  40.75  41.75  42.75  43.75  44.75  45.75  46.75  47.75  48.75  49.75\n",
      "  50.75  51.75  52.75  53.75  54.75  55.75  56.75  57.75  58.75  59.75\n",
      "  60.75  61.75  62.75  63.75  64.75  65.75  66.75  67.75  68.75  69.75\n",
      "  70.75  71.75  72.75  73.75  74.75  75.75  76.75  77.75  78.75  79.75\n",
      "  80.75  81.75  82.75  83.75  84.75  85.75  86.75  87.75  88.75  89.75\n",
      "  90.75  91.75  92.75  93.75  94.75  95.75  96.75  97.75  98.75]\n",
      "[ 7.  7.  7.  7.  6.  6.  6.  6.  5.  5.  5.  5.  4.  4.  4.  4.  3.  3.\n",
      "  3.  3.  2.  2.  2.  2.  2.  1.  1.  1.  1.  0.  0.  0.  0.  7.  7.  7.\n",
      "  7.  6.  6.  6.  6.  5.  5.  5.  5.  4.  4.  4.  4.  3.  3.  3.  3.  2.\n",
      "  2.  2.  2.  2.  1.  1.  1.  1.  0.  0.  0.  0.  7.  7.  7.  7.  6.  6.\n",
      "  6.  6.  5.  5.  5.  5.  4.  4.  4.  4.  3.  3.  3.  3.  2.  2.  2.  2.\n",
      "  2.  1.  1.  1.  1.  0.  0.  0.  0.]\n"
     ]
    }
   ],
   "source": [
    "prev_t = 9\n",
    "n_b = 8\n",
    "w_b = float(period)/float(n_b)\n",
    "#w_b = period//n_b\n",
    "print w_b\n",
    "print n_b\n",
    "max_h = 2**(n_b - 1)\n",
    "end_t = 4*period\n",
    "prev_h = 2**( numpy.floor( n_b - prev_t/w_b) )\n",
    "start_t = period\n",
    "now_t = numpy.arange(start_t, end_t)\n",
    "diff_t = now_t - (prev_t - 2*( n_b - numpy.log2(prev_h)*w_b + 1)) \n",
    "print ( n_b - numpy.log2(prev_h)*w_b)\n",
    "print diff_t\n",
    "mod_diff_t = numpy.mod(diff_t, period)\n",
    "n_bits_now = numpy.floor( n_b - mod_diff_t/w_b) \n",
    "print n_bits_now\n",
    "h_now = 2**(n_bits_now)\n",
    "#n_h_now = 2**( numpy.floor(n_b - diff_t/w_b) )\n",
    "\n",
    "fig_exp = pylab.figure(figsize=(10,6))\n",
    "ax = fig_exp.add_subplot(111)\n",
    "#ax.text(2, 6, r'an equation: $E=mc^2$', fontsize=15)\n",
    "ax.text(20, 6, 'invalid\\ntime', fontsize=12, horizontalalignment='center')\n",
    "ax.text(prev_t+13, prev_h+5., 'previous\\nspike\\n(%d, %d)'%(prev_t, prev_h), fontsize=12, horizontalalignment='center')\n",
    "ax.annotate('', xy=(prev_t, prev_h), xytext=(prev_t+8, prev_h+14),\n",
    "            horizontalalignment='center',\n",
    "            verticalalignment='center',\n",
    "            arrowprops=dict(arrowstyle=\"->\", connectionstyle=\"arc3\"))\n",
    "axes = pylab.gca()\n",
    "axes.set_ylim([0,max_h + 30])\n",
    "pylab.bar(prev_t, max_h, period - prev_t, color=(1., 0., 0., 0.3), linewidth=0.)\n",
    "pylab.plot([0, end_t], [max_h, max_h], 'b--', label=r'Maximum $H$ multiple')\n",
    "pylab.plot([prev_t, prev_t], [0, 2**n_b], '-.k')\n",
    "pylab.plot([0, end_t], [prev_h, prev_h], '-.k')\n",
    "pylab.plot([prev_t], [prev_h], 'sk', markerfacecolor='white')\n",
    "pylab.plot(now_t, h_now, 'g', label=r'Possible $H$ multiples')\n",
    "pylab.legend()\n",
    "pylab.xlabel(\"Time (ms)\")\n",
    "pylab.ylabel(r'$2^{f(t_{now})}H$')\n",
    "pylab.show()"
   ]
  },
  {
   "cell_type": "code",
   "execution_count": 168,
   "metadata": {
    "collapsed": false
   },
   "outputs": [
    {
     "name": "stdout",
     "output_type": "stream",
     "text": [
      "5.5\n",
      "[ 1  2  3  4  5  6  7  8  9 10 11 12 13 14 15 16 17 18 19 20 21 22 23 24 25\n",
      " 26 27 28 29 30 31 32 33]\n",
      "[ 0.18181818  0.36363636  0.54545455  0.72727273  0.90909091  1.09090909\n",
      "  1.27272727  1.45454545  1.63636364  1.81818182  2.          2.18181818\n",
      "  2.36363636  2.54545455  2.72727273  2.90909091  3.09090909  3.27272727\n",
      "  3.45454545  3.63636364  3.81818182  4.          4.18181818  4.36363636\n",
      "  4.54545455  4.72727273  4.90909091  5.09090909  5.27272727  5.45454545\n",
      "  5.63636364  5.81818182  6.        ]\n",
      "[ 32.  32.  32.  32.  32.  16.  16.  16.  16.  16.  16.   8.   8.   8.   8.\n",
      "   8.   4.   4.   4.   4.   4.   4.   2.   2.   2.   2.   2.   1.   1.   1.\n",
      "   1.   1.   1.]\n"
     ]
    },
    {
     "data": {
      "image/png": "[encoded data removed]",
      "text/plain": [
       "<matplotlib.figure.Figure at 0x7fee52c4aa50>"
      ]
     },
     "metadata": {},
     "output_type": "display_data"
    }
   ],
   "source": [
    "w_b = (float(period)/float(n_b))\n",
    "print w_b\n",
    "t_range = numpy.arange(1, period + 1)\n",
    "print t_range\n",
    "print t_range/w_b\n",
    "h_range = 2**numpy.floor(n_b - t_range/w_b)\n",
    "print h_range\n",
    "fig_range = pylab.figure()\n",
    "pylab.plot(t_range, h_range)\n",
    "pylab.show()"
   ]
  },
  {
   "cell_type": "code",
   "execution_count": null,
   "metadata": {
    "collapsed": true
   },
   "outputs": [],
   "source": []
  }
 ],
 "metadata": {
  "kernelspec": {
   "display_name": "Python 2",
   "language": "python2",
   "name": "python2"
  },
  "language_info": {
   "codemirror_mode": {
    "name": "ipython",
    "version": 2
   },
   "file_extension": ".py",
   "mimetype": "text/x-python",
   "name": "python",
   "nbconvert_exporter": "python",
   "pygments_lexer": "ipython2",
   "version": "2.7.10"
  }
 },
 "nbformat": 4,
 "nbformat_minor": 0
}
