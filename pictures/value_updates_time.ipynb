{
 "cells": [
  {
   "cell_type": "code",
   "execution_count": 1,
   "metadata": {
    "collapsed": true
   },
   "outputs": [],
   "source": [
    "###%matplotlib inline\n",
    "\n",
    "import numpy\n",
    "import pylab"
   ]
  },
  {
   "cell_type": "code",
   "execution_count": 2,
   "metadata": {
    "collapsed": false
   },
   "outputs": [
    {
     "name": "stdout",
     "output_type": "stream",
     "text": [
      "33\n"
     ]
    }
   ],
   "source": [
    "fps = 30\n",
    "period = int(numpy.floor(1000./fps))\n",
    "print period"
   ]
  },
  {
   "cell_type": "code",
   "execution_count": 70,
   "metadata": {
    "collapsed": false
   },
   "outputs": [],
   "source": [
    "prev_t = 9\n",
    "w_b = 1\n",
    "n_b = period/w_b\n",
    "end_t = 4*period\n",
    "max_val = period\n",
    "prev_h = period - prev_t\n",
    "now_t = numpy.arange(period, end_t)\n",
    "diff_t = now_t - (prev_t - prev_h*w_b)\n",
    "n_h_now = numpy.floor(n_b - numpy.mod(diff_t, period)/w_b)\n",
    "\n",
    "fig_linear = pylab.figure()\n",
    "ax = fig_linear.add_subplot(111)\n",
    "#ax.text(2, 6, r'an equation: $E=mc^2$', fontsize=15)\n",
    "ax.text(20, 6, 'invalid\\ntime', fontsize=12, horizontalalignment='center')\n",
    "ax.text(prev_t+13, prev_h+1., 'previous\\nspike\\n(%d, %d)'%(prev_t, prev_h), fontsize=12, horizontalalignment='center')\n",
    "ax.annotate('', xy=(prev_t, prev_h), xytext=(prev_t+8, prev_h+2),\n",
    "            horizontalalignment='center',\n",
    "            verticalalignment='center',\n",
    "            arrowprops=dict(arrowstyle=\"->\", connectionstyle=\"arc3\"))\n",
    "axes = pylab.gca()\n",
    "axes.set_ylim([0,max_val + 8])\n",
    "pylab.bar(prev_t, max_val, period - prev_t, color=(1., 0., 0., 0.3), linewidth=0.)\n",
    "pylab.plot([0, end_t], [max_val, max_val], 'b--', label=r'Maximum $H$ multiple')\n",
    "pylab.plot([prev_t, prev_t], [0, max_val], '-.k')\n",
    "pylab.plot([0, end_t], [prev_h, prev_h], '-.k')\n",
    "pylab.plot([prev_t], [prev_h], 'sk', markerfacecolor='white')\n",
    "pylab.plot(now_t, n_h_now, 'g', label=r'Possible $H$ multiples')\n",
    "pylab.legend()\n",
    "pylab.xlabel(\"Time (ms)\")\n",
    "pylab.ylabel(r'$H\\cdot f(t_{now})$')\n",
    "pylab.show()"
   ]
  },
  {
   "cell_type": "code",
   "execution_count": 78,
   "metadata": {
    "collapsed": false
   },
   "outputs": [
    {
     "name": "stdout",
     "output_type": "stream",
     "text": [
      "4.125\n",
      "8\n",
      "[  44.6251   45.6251   46.6251   47.6251   48.6251   49.6251   50.6251\n",
      "   51.6251   52.6251   53.6251   54.6251   55.6251   56.6251   57.6251\n",
      "   58.6251   59.6251   60.6251   61.6251   62.6251   63.6251   64.6251\n",
      "   65.6251   66.6251   67.6251   68.6251   69.6251   70.6251   71.6251\n",
      "   72.6251   73.6251   74.6251   75.6251   76.6251   77.6251   78.6251\n",
      "   79.6251   80.6251   81.6251   82.6251   83.6251   84.6251   85.6251\n",
      "   86.6251   87.6251   88.6251   89.6251   90.6251   91.6251   92.6251\n",
      "   93.6251   94.6251   95.6251   96.6251   97.6251   98.6251   99.6251\n",
      "  100.6251  101.6251  102.6251  103.6251  104.6251  105.6251  106.6251\n",
      "  107.6251  108.6251  109.6251  110.6251  111.6251  112.6251  113.6251\n",
      "  114.6251  115.6251  116.6251  117.6251  118.6251  119.6251  120.6251\n",
      "  121.6251  122.6251  123.6251  124.6251  125.6251  126.6251  127.6251\n",
      "  128.6251  129.6251  130.6251  131.6251  132.6251  133.6251  134.6251\n",
      "  135.6251  136.6251  137.6251  138.6251  139.6251  140.6251  141.6251\n",
      "  142.6251]\n",
      "[ 11.6251  12.6251  13.6251  14.6251  15.6251  16.6251  17.6251  18.6251\n",
      "  19.6251  20.6251  21.6251  22.6251  23.6251  24.6251  25.6251  26.6251\n",
      "  27.6251  28.6251  29.6251  30.6251  31.6251  32.6251   0.6251   1.6251\n",
      "   2.6251   3.6251   4.6251   5.6251   6.6251   7.6251   8.6251   9.6251\n",
      "  10.6251  11.6251  12.6251  13.6251  14.6251  15.6251  16.6251  17.6251\n",
      "  18.6251  19.6251  20.6251  21.6251  22.6251  23.6251  24.6251  25.6251\n",
      "  26.6251  27.6251  28.6251  29.6251  30.6251  31.6251  32.6251   0.6251\n",
      "   1.6251   2.6251   3.6251   4.6251   5.6251   6.6251   7.6251   8.6251\n",
      "   9.6251  10.6251  11.6251  12.6251  13.6251  14.6251  15.6251  16.6251\n",
      "  17.6251  18.6251  19.6251  20.6251  21.6251  22.6251  23.6251  24.6251\n",
      "  25.6251  26.6251  27.6251  28.6251  29.6251  30.6251  31.6251  32.6251\n",
      "   0.6251   1.6251   2.6251   3.6251   4.6251   5.6251   6.6251   7.6251\n",
      "   8.6251   9.6251  10.6251]\n",
      "[ 2.81820606  3.0606303   3.30305455  3.54547879  3.78790303  4.03032727\n",
      "  4.27275152  4.51517576  4.7576      5.00002424  5.24244848  5.48487273\n",
      "  5.72729697  5.96972121  6.21214545  6.4545697   6.69699394  6.93941818\n",
      "  7.18184242  7.42426667  7.66669091  7.90911515  0.15153939  0.39396364\n",
      "  0.63638788  0.87881212  1.12123636  1.36366061  1.60608485  1.84850909\n",
      "  2.09093333  2.33335758  2.57578182  2.81820606  3.0606303   3.30305455\n",
      "  3.54547879  3.78790303  4.03032727  4.27275152  4.51517576  4.7576\n",
      "  5.00002424  5.24244848  5.48487273  5.72729697  5.96972121  6.21214545\n",
      "  6.4545697   6.69699394  6.93941818  7.18184242  7.42426667  7.66669091\n",
      "  7.90911515  0.15153939  0.39396364  0.63638788  0.87881212  1.12123636\n",
      "  1.36366061  1.60608485  1.84850909  2.09093333  2.33335758  2.57578182\n",
      "  2.81820606  3.0606303   3.30305455  3.54547879  3.78790303  4.03032727\n",
      "  4.27275152  4.51517576  4.7576      5.00002424  5.24244848  5.48487273\n",
      "  5.72729697  5.96972121  6.21214545  6.4545697   6.69699394  6.93941818\n",
      "  7.18184242  7.42426667  7.66669091  7.90911515  0.15153939  0.39396364\n",
      "  0.63638788  0.87881212  1.12123636  1.36366061  1.60608485  1.84850909\n",
      "  2.09093333  2.33335758  2.57578182]\n",
      "[ 5.  4.  4.  4.  4.  3.  3.  3.  3.  2.  2.  2.  2.  2.  1.  1.  1.  1.\n",
      "  0.  0.  0.  0.  7.  7.  7.  7.  6.  6.  6.  6.  5.  5.  5.  5.  4.  4.\n",
      "  4.  4.  3.  3.  3.  3.  2.  2.  2.  2.  2.  1.  1.  1.  1.  0.  0.  0.\n",
      "  0.  7.  7.  7.  7.  6.  6.  6.  6.  5.  5.  5.  5.  4.  4.  4.  4.  3.\n",
      "  3.  3.  3.  2.  2.  2.  2.  2.  1.  1.  1.  1.  0.  0.  0.  0.  7.  7.\n",
      "  7.  7.  6.  6.  6.  6.  5.  5.  5.]\n"
     ]
    }
   ],
   "source": [
    "prev_t = 9\n",
    "n_b = 8\n",
    "w_b = float(period)/float(n_b)\n",
    "print w_b\n",
    "print n_b\n",
    "max_h = 2**(n_b - 1)\n",
    "end_t = 4*period\n",
    "prev_h = 2**( numpy.floor( n_b - prev_t/w_b) )\n",
    "now_t = numpy.arange(period, end_t)\n",
    "diff_t = now_t - (prev_t - numpy.log2(prev_h)*w_b) + 0.0001\n",
    "print diff_t\n",
    "mod_diff_t = numpy.mod(diff_t, period)\n",
    "print mod_diff_t\n",
    "print mod_diff_t/w_b\n",
    "n_bits_now = numpy.floor( n_b - mod_diff_t/w_b) \n",
    "print n_bits_now\n",
    "h_now = 2**(n_bits_now)\n",
    "#n_h_now = 2**( numpy.floor(n_b - diff_t/w_b) )\n",
    "\n",
    "fig_exp = pylab.figure(figsize=(10,6))\n",
    "ax = fig_exp.add_subplot(111)\n",
    "#ax.text(2, 6, r'an equation: $E=mc^2$', fontsize=15)\n",
    "ax.text(20, 6, 'invalid\\ntime', fontsize=12, horizontalalignment='center')\n",
    "ax.text(prev_t+13, prev_h+1., 'previous\\nspike\\n(%d, %d)'%(prev_t, prev_h), fontsize=12, horizontalalignment='center')\n",
    "ax.annotate('', xy=(prev_t, prev_h), xytext=(prev_t+8, prev_h+2),\n",
    "            horizontalalignment='center',\n",
    "            verticalalignment='center',\n",
    "            arrowprops=dict(arrowstyle=\"->\", connectionstyle=\"arc3\"))\n",
    "axes = pylab.gca()\n",
    "axes.set_ylim([0,max_h + 30])\n",
    "pylab.bar(prev_t, max_h, period - prev_t, color=(1., 0., 0., 0.3), linewidth=0.)\n",
    "pylab.plot([0, end_t], [max_h, max_h], 'b--', label=r'Maximum $H$ multiple')\n",
    "pylab.plot([prev_t, prev_t], [0, 2**n_b], '-.k')\n",
    "pylab.plot([0, end_t], [prev_h, prev_h], '-.k')\n",
    "pylab.plot([prev_t], [prev_h], 'sk', markerfacecolor='white')\n",
    "pylab.plot(now_t, h_now, 'g', label=r'Possible $H$ multiples')\n",
    "pylab.legend()\n",
    "pylab.xlabel(\"Time (ms)\")\n",
    "pylab.ylabel(r'$2^{f(t_{now})}H$')\n",
    "pylab.show()"
   ]
  },
  {
   "cell_type": "code",
   "execution_count": 168,
   "metadata": {
    "collapsed": false
   },
   "outputs": [
    {
     "name": "stdout",
     "output_type": "stream",
     "text": [
      "5.5\n",
      "[ 1  2  3  4  5  6  7  8  9 10 11 12 13 14 15 16 17 18 19 20 21 22 23 24 25\n",
      " 26 27 28 29 30 31 32 33]\n",
      "[ 0.18181818  0.36363636  0.54545455  0.72727273  0.90909091  1.09090909\n",
      "  1.27272727  1.45454545  1.63636364  1.81818182  2.          2.18181818\n",
      "  2.36363636  2.54545455  2.72727273  2.90909091  3.09090909  3.27272727\n",
      "  3.45454545  3.63636364  3.81818182  4.          4.18181818  4.36363636\n",
      "  4.54545455  4.72727273  4.90909091  5.09090909  5.27272727  5.45454545\n",
      "  5.63636364  5.81818182  6.        ]\n",
      "[ 32.  32.  32.  32.  32.  16.  16.  16.  16.  16.  16.   8.   8.   8.   8.\n",
      "   8.   4.   4.   4.   4.   4.   4.   2.   2.   2.   2.   2.   1.   1.   1.\n",
      "   1.   1.   1.]\n"
     ]
    },
    {
     "data": {
      "image/png": "[encoded data removed]",
      "text/plain": [
       "<matplotlib.figure.Figure at 0x7fee52c4aa50>"
      ]
     },
     "metadata": {},
     "output_type": "display_data"
    }
   ],
   "source": [
    "w_b = (float(period)/float(n_b))\n",
    "print w_b\n",
    "t_range = numpy.arange(1, period + 1)\n",
    "print t_range\n",
    "print t_range/w_b\n",
    "h_range = 2**numpy.floor(n_b - t_range/w_b)\n",
    "print h_range\n",
    "fig_range = pylab.figure()\n",
    "pylab.plot(t_range, h_range)\n",
    "pylab.show()"
   ]
  },
  {
   "cell_type": "code",
   "execution_count": null,
   "metadata": {
    "collapsed": true
   },
   "outputs": [],
   "source": []
  }
 ],
 "metadata": {
  "kernelspec": {
   "display_name": "Python 2",
   "language": "python2",
   "name": "python2"
  },
  "language_info": {
   "codemirror_mode": {
    "name": "ipython",
    "version": 2
   },
   "file_extension": ".py",
   "mimetype": "text/x-python",
   "name": "python",
   "nbconvert_exporter": "python",
   "pygments_lexer": "ipython2",
   "version": "2.7.10"
  }
 },
 "nbformat": 4,
 "nbformat_minor": 0
}
