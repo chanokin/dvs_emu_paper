{
 "cells": [
  {
   "cell_type": "code",
   "execution_count": 1,
   "metadata": {
    "collapsed": true
   },
   "outputs": [],
   "source": [
    "import numpy\n",
    "import pylab"
   ]
  },
  {
   "cell_type": "markdown",
   "metadata": {},
   "source": [
    "# Gamma encoding process"
   ]
  },
  {
   "cell_type": "code",
   "execution_count": 9,
   "metadata": {
    "collapsed": false
   },
   "outputs": [
    {
     "name": "stderr",
     "output_type": "stream",
     "text": [
      "-c:7: RuntimeWarning: divide by zero encountered in log\n"
     ]
    }
   ],
   "source": [
    "exponent = 2.2\n",
    "inv_exponent = 1./exponent\n",
    "max_raw = 50.\n",
    "max_enc = 25.\n",
    "raw = numpy.arange(0., max_raw, 1.)\n",
    "raw_d = numpy.arange(0., max_enc, max_enc/max_raw )\n",
    "log_encoded = numpy.log(raw)\n",
    "gamma_encoded = numpy.power(raw, inv_exponent)\n",
    "gamma_decoded = numpy.power(raw_d, exponent)\n",
    "monitor_out = numpy.power(gamma_encoded, exponent)"
   ]
  },
  {
   "cell_type": "code",
   "execution_count": 3,
   "metadata": {
    "collapsed": false
   },
   "outputs": [],
   "source": [
    "fig = pylab.figure()\n",
    "fig.suptitle(r\"Linear output $\\left(l=x\\right)$\")\n",
    "pylab.xlabel(\"Raw input value\")\n",
    "pylab.ylabel(\"Linear output\")\n",
    "pylab.plot(raw, raw)\n",
    "pylab.show()"
   ]
  },
  {
   "cell_type": "code",
   "execution_count": 4,
   "metadata": {
    "collapsed": false
   },
   "outputs": [],
   "source": [
    "fig = pylab.figure()\n",
    "fig.suptitle(r\"Gamma encoding of input $\\left(y=x^{2.2}\\right)$\")\n",
    "pylab.xlabel(\"Raw input value\")\n",
    "pylab.ylabel(\"Gamma encoded \")\n",
    "pylab.plot(raw, gamma_encoded)\n",
    "pylab.show()"
   ]
  },
  {
   "cell_type": "code",
   "execution_count": 5,
   "metadata": {
    "collapsed": false
   },
   "outputs": [],
   "source": [
    "fig = pylab.figure()\n",
    "fig.suptitle(r\"Gamma decoding of input $\\left(z=y^{\\frac{1}{2.2}}\\right)$\")\n",
    "pylab.xlabel(\"Raw input value\")\n",
    "pylab.ylabel(\"Gamma encoded \")\n",
    "pylab.plot(raw_d, gamma_decoded)\n",
    "pylab.show()"
   ]
  },
  {
   "cell_type": "code",
   "execution_count": 6,
   "metadata": {
    "collapsed": false
   },
   "outputs": [],
   "source": [
    "fig = pylab.figure()\n",
    "fig.suptitle(r\"Raw input vs Gamma decoded output $\\left(z = [x^{2.2}]^{\\frac{1}{2.2}}\\right)$\")\n",
    "pylab.xlabel(\"Raw input value\")\n",
    "pylab.ylabel(\"Gamma decoded \")\n",
    "pylab.plot(raw, monitor_out)\n",
    "pylab.show()"
   ]
  },
  {
   "cell_type": "code",
   "execution_count": 8,
   "metadata": {
    "collapsed": false
   },
   "outputs": [],
   "source": [
    "raw_norm = raw/numpy.max(raw)\n",
    "gamma_norm = gamma_encoded/numpy.max(gamma_encoded)\n",
    "degamma_norm = gamma_decoded/numpy.max(gamma_decoded)\n",
    "\n",
    "fig = pylab.figure()\n",
    "#fig.suptitle(r\"Gamma encoding/decoding\")\n",
    "pylab.xlabel(\"input\")\n",
    "pylab.ylabel(\"output\")\n",
    "encoded_label, = pylab.plot(raw_norm, gamma_norm, 'x', label='gamma_encoded')\n",
    "decoded_label, = pylab.plot(raw_norm, degamma_norm, 'H', fillstyle='none',label='gamma_decoded')\n",
    "monitor_label, = pylab.plot(raw_norm, raw_norm, '.', fillstyle=None, label='monitor_out')\n",
    "pylab.legend([encoded_label, decoded_label, monitor_label], \\\n",
    "             [r'$y=x^{2.2}$', r'$y=x^{\\frac{1}{2.2}}$', r'$y={(x^{2.2})}^{\\frac{1}{2.2}}$'])\n",
    "\n",
    "gca = pylab.gca()\n",
    "gca.axes.get_xaxis().set_ticks([])\n",
    "gca.axes.get_yaxis().set_ticks([])\n",
    "pylab.show()"
   ]
  },
  {
   "cell_type": "code",
   "execution_count": 11,
   "metadata": {
    "collapsed": true
   },
   "outputs": [],
   "source": [
    "log_norm = log_encoded/numpy.max(log_encoded)\n",
    "fig = pylab.figure()\n",
    "fig.suptitle(r\"Linear output $\\left(l=x\\right)$\")\n",
    "pylab.xlabel(\"Raw input value\")\n",
    "pylab.ylabel(\"Linear output\")\n",
    "pylab.plot(raw, log_norm)\n",
    "pylab.plot(raw, gamma_norm)\n",
    "pylab.show()"
   ]
  }
 ],
 "metadata": {
  "kernelspec": {
   "display_name": "Python 2",
   "language": "python2",
   "name": "python2"
  },
  "language_info": {
   "codemirror_mode": {
    "name": "ipython",
    "version": 2
   },
   "file_extension": ".py",
   "mimetype": "text/x-python",
   "name": "python",
   "nbconvert_exporter": "python",
   "pygments_lexer": "ipython2",
   "version": "2.7.10"
  }
 },
 "nbformat": 4,
 "nbformat_minor": 0
}
