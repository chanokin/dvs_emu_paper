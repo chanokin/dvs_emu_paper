{
 "cells": [
  {
   "cell_type": "code",
   "execution_count": 1,
   "metadata": {
    "collapsed": false
   },
   "outputs": [],
   "source": [
    "%matplotlib inline\n",
    "%reload_ext Cython\n",
    "font = {'family' : 'sans-serif',\n",
    "        'style': 'normal',\n",
    "        'weight' : 'medium',\n",
    "        'size' : 8}\n",
    "import matplotlib\n",
    "matplotlib.rc('font', **font)\n",
    "from __future__ import print_function\n",
    "import time\n",
    "import pylab\n",
    "import numpy as np\n",
    "from numpy import int16, uint16, uint8, float16, log2\n",
    "\n",
    "import cv2\n",
    "from cv2 import cvtColor as convertColor, COLOR_BGR2GRAY, COLOR_GRAY2RGB,\\\n",
    "                resize, imread, imwrite\n",
    "\n",
    "try:                  #nearest neighboor interpolation\n",
    "  from cv2.cv import CV_INTER_NN, \\\n",
    "                     CV_CAP_PROP_FRAME_WIDTH, \\\n",
    "                     CV_CAP_PROP_FRAME_HEIGHT, \\\n",
    "                     CV_CAP_PROP_FPS, \\\n",
    "                     CV_LOAD_IMAGE_GRAYSCALE\n",
    "except:\n",
    "  from cv2 import INTER_NEAREST as CV_INTER_NN, \\\n",
    "                  CAP_PROP_FRAME_WIDTH as CV_CAP_PROP_FRAME_WIDTH, \\\n",
    "                  CAP_PROP_FRAME_HEIGHT as CV_CAP_PROP_FRAME_HEIGHT, \\\n",
    "                  CAP_PROP_FPS as CV_CAP_PROP_FPS, \\\n",
    "                  IMREAD_GRAYSCALE as CV_LOAD_IMAGE_GRAYSCALE\n",
    "\n",
    "import pyximport; pyximport.install()\n",
    "#from pydvs.generate_spikes import *\n",
    "from pydvs.generate_spikes import *\n",
    "\n"
   ]
  },
  {
   "cell_type": "code",
   "execution_count": 2,
   "metadata": {
    "collapsed": false
   },
   "outputs": [
    {
     "data": {
      "image/png": "[encoded data removed]",
      "text/plain": [
       "<matplotlib.figure.Figure at 0x3551390>"
      ]
     },
     "metadata": {},
     "output_type": "display_data"
    }
   ],
   "source": [
    "img_path = \"./t10k-images-idx3-ubyte__idx_008__lbl_5_.png\"\n",
    "orig_w = 28\n",
    "out_w = 128\n",
    "fr = (out_w - orig_w)//2\n",
    "to = fr + orig_w\n",
    "\n",
    "num_cycles = 3\n",
    "history_weight = 0.95\n",
    "cam_fps = 60\n",
    "frame_time_ms = int(1000./cam_fps)\n",
    "speed = 1. #pix/sec\n",
    "\n",
    "out_img = np.zeros((out_w, out_w), dtype=int16)\n",
    "ctr_img = np.zeros((out_w, out_w), dtype=int16)\n",
    "orig_img = imread(img_path, CV_LOAD_IMAGE_GRAYSCALE)\n",
    "ctr_img[fr:to, fr:to] = orig_img\n",
    "\n",
    "pylab.figure()\n",
    "pylab.imshow(ctr_img, cmap='Greys_r')\n",
    "pylab.show()\n",
    "    "
   ]
  },
  {
   "cell_type": "code",
   "execution_count": 3,
   "metadata": {
    "collapsed": false
   },
   "outputs": [],
   "source": [
    "for j in range(100):\n",
    "    for i in range(256):\n",
    "        out_img[:] = traverse_image(ctr_img, i, speed, 0)\n",
    "        cv2.imshow(\"anim\", out_img.astype(dtype=uint8))\n",
    "        k = cv2.waitKey(1)\n",
    "        if k == 27 or k==ord('q'):         # wait for ESC key to exit\n",
    "            cv2.destroyAllWindows()\n",
    "    #     cv2.waitKey(frame_time_ms)\n",
    "\n",
    "cv2.destroyAllWindows()"
   ]
  }
 ],
 "metadata": {
  "kernelspec": {
   "display_name": "Python 2",
   "language": "python2",
   "name": "python2"
  },
  "language_info": {
   "codemirror_mode": {
    "name": "ipython",
    "version": 2
   },
   "file_extension": ".py",
   "mimetype": "text/x-python",
   "name": "python",
   "nbconvert_exporter": "python",
   "pygments_lexer": "ipython2",
   "version": "2.7.12"
  }
 },
 "nbformat": 4,
 "nbformat_minor": 0
}
